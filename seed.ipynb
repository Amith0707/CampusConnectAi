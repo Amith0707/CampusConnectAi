{
 "cells": [
  {
   "cell_type": "code",
   "execution_count": null,
   "id": "33048f57",
   "metadata": {},
   "outputs": [
    {
     "name": "stdout",
     "output_type": "stream",
     "text": [
      "Created: feedback_files\\feedback_Unfiltered_Voices.xlsx\n",
      "Created: feedback_files\\feedback_Future_Forward.xlsx\n",
      "Created: feedback_files\\feedback_Voices_Unheard.xlsx\n",
      "Created: feedback_files\\feedback_AI_in_2025.xlsx\n",
      "Excel files generated successfully!\n"
     ]
    }
   ],
   "source": [
    "import pandas as pd\n",
    "import os\n",
    "\n",
    "# Define event data\n",
    "events = [\n",
    "    {\n",
    "        \"clubName\": \"TEDx\",\n",
    "        \"title\": \"Unfiltered Voices\",\n",
    "        \"description\": \"Raw stories from real people\",\n",
    "        \"event_name\": \"Unfiltered_Voices\",\n",
    "        \"feedback_list\": [\n",
    "            \"Great event, I really enjoyed it!\",\n",
    "            \"It was too long and kind of boring.\",\n",
    "            \"Super fun, would love to attend again!\",\n",
    "            \"Not worth my time.\",\n",
    "            \"Nice organization and good food!\"\n",
    "        ]\n",
    "    },\n",
    "    {\n",
    "        \"clubName\": \"TEDx\",\n",
    "        \"title\": \"Future Forward\",\n",
    "        \"description\": \"Exploring AI, Climate and Innovation\",\n",
    "        \"event_name\": \"Future_Forward\",\n",
    "        \"feedback_list\": [\n",
    "            \"Amazing insights into the future!\",\n",
    "            \"Could be more interactive.\",\n",
    "            \"Loved the AI discussions.\",\n",
    "            \"Very informative but a bit long.\",\n",
    "            \"Engaging speakers!\"\n",
    "        ]\n",
    "    },\n",
    "    {\n",
    "        \"clubName\": \"TEDx\",\n",
    "        \"title\": \"Voices Unheard\",\n",
    "        \"description\": \"Inspiring TEDx talks by students\",\n",
    "        \"event_name\": \"Voices_Unheard\",\n",
    "        \"feedback_list\": [\n",
    "            \"Motivating and inspiring!\",\n",
    "            \"Students did a great job presenting.\",\n",
    "            \"Could improve on audio quality.\",\n",
    "            \"Very engaging discussions.\",\n",
    "            \"Excellent choice of topics!\"\n",
    "        ]\n",
    "    },\n",
    "    {\n",
    "        \"clubName\": \"TEDx\",\n",
    "        \"title\": \"AI in 2025\",\n",
    "        \"description\": \"Exploring the future of Artificial Intelligence\",\n",
    "        \"event_name\": \"AI_in_2025\",\n",
    "        \"feedback_list\": [\n",
    "            \"Fascinating insights on AI!\",\n",
    "            \"A bit too technical for me.\",\n",
    "            \"Loved the innovation showcase.\",\n",
    "            \"Great networking opportunities.\",\n",
    "            \"Wish there were more industry leaders speaking.\"\n",
    "        ]\n",
    "    }\n",
    "]\n",
    "\n",
    "# Directory setup\n",
    "output_dir = \"feedback_files\"\n",
    "os.makedirs(output_dir, exist_ok=True)\n",
    "\n",
    "# Generate Excel files\n",
    "for event in events:\n",
    "    df = pd.DataFrame(event[\"feedback_list\"], columns=[\"feedback\"])\n",
    "    file_path = os.path.join(output_dir, f\"feedback_{event['event_name']}.xlsx\")\n",
    "    df.to_excel(file_path, index=False)\n",
    "    print(f\"Created: {file_path}\")\n",
    "\n",
    "print(\"Excel files generated successfully!\")\n"
   ]
  },
  {
   "cell_type": "code",
   "execution_count": null,
   "id": "24a4901d",
   "metadata": {},
   "outputs": [],
   "source": []
  }
 ],
 "metadata": {
  "kernelspec": {
   "display_name": "Python 3",
   "language": "python",
   "name": "python3"
  },
  "language_info": {
   "codemirror_mode": {
    "name": "ipython",
    "version": 3
   },
   "file_extension": ".py",
   "mimetype": "text/x-python",
   "name": "python",
   "nbconvert_exporter": "python",
   "pygments_lexer": "ipython3",
   "version": "3.10.0"
  }
 },
 "nbformat": 4,
 "nbformat_minor": 5
}
